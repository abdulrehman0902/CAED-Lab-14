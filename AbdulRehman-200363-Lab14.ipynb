{
 "cells": [
  {
   "cell_type": "code",
   "execution_count": 10,
   "id": "bc544626",
   "metadata": {},
   "outputs": [
    {
     "name": "stdout",
     "output_type": "stream",
     "text": [
      "          0         1\n",
      "0    6.1101  17.59200\n",
      "1    5.5277   9.13020\n",
      "2    8.5186  13.66200\n",
      "3    7.0032  11.85400\n",
      "4    5.8598   6.82330\n",
      "..      ...       ...\n",
      "92   5.8707   7.20290\n",
      "93   5.3054   1.98690\n",
      "94   8.2934   0.14454\n",
      "95  13.3940   9.05510\n",
      "96   5.4369   0.61705\n",
      "\n",
      "[97 rows x 2 columns]\n"
     ]
    },
    {
     "data": {
      "image/png": "[encoded data removed]",
      "text/plain": [
       "<Figure size 432x288 with 1 Axes>"
      ]
     },
     "metadata": {
      "needs_background": "light"
     },
     "output_type": "display_data"
    }
   ],
   "source": [
    "import numpy as np\n",
    "import pandas as pd\n",
    "import matplotlib.pyplot as plot\n",
    "\n",
    "f = pd.read_csv(\"ex1data1.txt\",header = None)\n",
    "print(f)\n",
    "\n",
    "f = np.array(f)\n",
    "x = f[::,0:1]\n",
    "y = f[::,1:2]\n",
    "\n",
    "plot.scatter(x,y,color = 'b')\n",
    "plot.show()\n"
   ]
  },
  {
   "cell_type": "code",
   "execution_count": null,
   "id": "3bcece74",
   "metadata": {},
   "outputs": [],
   "source": []
  }
 ],
 "metadata": {
  "kernelspec": {
   "display_name": "Python 3 (ipykernel)",
   "language": "python",
   "name": "python3"
  },
  "language_info": {
   "codemirror_mode": {
    "name": "ipython",
    "version": 3
   },
   "file_extension": ".py",
   "mimetype": "text/x-python",
   "name": "python",
   "nbconvert_exporter": "python",
   "pygments_lexer": "ipython3",
   "version": "3.9.7"
  }
 },
 "nbformat": 4,
 "nbformat_minor": 5
}
